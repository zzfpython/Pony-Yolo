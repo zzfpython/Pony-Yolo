{
 "cells": [
  {
   "cell_type": "code",
   "execution_count": null,
   "metadata": {},
   "outputs": [],
   "source": [
    "import cv2\n",
    "import numpy as np\n",
    "import os\n",
    "import poly_yolo as yolo"
   ]
  },
  {
   "cell_type": "code",
   "execution_count": null,
   "metadata": {
    "scrolled": false
   },
   "outputs": [],
   "source": [
    "#load pretrained model\n",
    "trained_model = yolo.YOLO(model_path='fully_trained_model.h5')"
   ]
  },
  {
   "cell_type": "code",
   "execution_count": null,
   "metadata": {},
   "outputs": [],
   "source": [
    "#helper function\n",
    "def translate_color(cls):\n",
    "    if cls == 0: return (230, 25, 75)\n",
    "    if cls == 1: return (60, 180, 75)\n",
    "    if cls == 2: return (255, 225, 25)\n",
    "    if cls == 3: return (0, 130, 200)\n",
    "    if cls == 4: return (245, 130, 48)\n",
    "    if cls == 5: return (145, 30, 180)\n",
    "    if cls == 7: return (70, 240, 240)\n",
    "    if cls == 8: return (240, 50, 230)\n",
    "    if cls == 9: return (210, 245, 60)\n",
    "    if cls == 10: return (250, 190, 190)\n",
    "    if cls == 11: return (0, 128, 128)\n",
    "    if cls == 12: return (230, 190, 255)\n",
    "    if cls == 13: return (170, 110, 40)\n",
    "    if cls == 14: return (255, 250, 200)\n",
    "    if cls == 15: return (128, 0, 128)\n",
    "    if cls == 16: return (170, 255, 195)\n",
    "    if cls == 17: return (128, 128, 0)\n",
    "    if cls == 18: return (255, 215, 180)\n",
    "    if cls == 19: return (80, 80, 128)"
   ]
  },
  {
   "cell_type": "code",
   "execution_count": null,
   "metadata": {
    "scrolled": false
   },
   "outputs": [],
   "source": [
    "#paths to images\n",
    "dir_imgs_name  = 'path_where_are_images_to_clasification'\n",
    "out_path       = 'poly_yolo_predict/'\n",
    "list_of_imgs = [root+\"/\"+namefor root, dirs, files in os.walk(dir_imgs_name) for name in files]    \n",
    "list_of_imgs.sort()\n",
    "\n",
    "#browse all images\n",
    "total_boxes = 0\n",
    "imgs        = 0\n",
    "for im in range (0, len(list_of_imgs)):\n",
    "    imgs    += 1\n",
    "    img     = cv2.imread(list_of_imgs[im])\n",
    "    overlay = img.copy()\n",
    "    boxes   = []\n",
    "    scores  = []\n",
    "    classes = []\n",
    "    \n",
    "    #realize prediciction using poly-yolo\n",
    "    box, scores, classes, polygons = trained_model.detect_image(img)\n",
    "    \n",
    "    #reshape y1,x1,y2,x2 into x1,y1,x2,y2\n",
    "    for k in range (0, len(box)):\n",
    "        boxes.append((box[k][1], box[k][0], box[k][3], box[k][2]))\n",
    "    total_boxes += len(boxes)\n",
    "    \n",
    "    #browse all boxes\n",
    "    for b in range(0, len(boxes)):\n",
    "        f              = translate_color(classes[b])    \n",
    "        points_to_draw = []\n",
    "        offset         = len(polygons[b])//3\n",
    "        \n",
    "        #filter bounding polygon vertices\n",
    "        for dst in range(0, len(polygons[b])//3):\n",
    "            if polygons[b][dst+offset*2] > 0.3: \n",
    "                points.append(polygons[b][dst])\n",
    "                points.append(polygons[b][dst+offset])\n",
    "                points_to_draw.append([int(polygons[b][dst]), int(polygons[b][dst+offset])])\n",
    "        \n",
    "        points_to_draw = np.asarray(points_to_draw)\n",
    "        points_to_draw = points_to_draw.astype(np.int32)\n",
    "        if points_to_draw.shape[0]>0:\n",
    "            cv2.polylines(img, [points_to_draw],True,f, thickness=2)\n",
    "            cv2.fillPoly(overlay, [points_to_draw], f)\n",
    "        \n",
    "    img = cv2.addWeighted(overlay, 0.4, img, 1 - 0.4, 0)\n",
    "    cv2.imwrite(out_path+str(imgs)+'.jpg', img)\n",
    "    \n",
    "print('total boxes: ', total_boxes)\n",
    "print('imgs: ', imgs)"
   ]
  }
 ],
 "metadata": {
  "accelerator": "GPU",
  "colab": {
   "collapsed_sections": [],
   "name": "yolo-v4.ipynb",
   "provenance": [],
   "version": "0.3.2"
  },
  "kernelspec": {
   "display_name": "Python 3",
   "language": "python",
   "name": "python3"
  },
  "language_info": {
   "codemirror_mode": {
    "name": "ipython",
    "version": 3
   },
   "file_extension": ".py",
   "mimetype": "text/x-python",
   "name": "python",
   "nbconvert_exporter": "python",
   "pygments_lexer": "ipython3",
   "version": "3.6.8"
  }
 },
 "nbformat": 4,
 "nbformat_minor": 1
}
